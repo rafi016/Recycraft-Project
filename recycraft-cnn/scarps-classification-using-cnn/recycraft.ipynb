{
  "nbformat": 4,
  "nbformat_minor": 0,
  "metadata": {
    "colab": {
      "name": "recycraft",
      "provenance": [],
      "collapsed_sections": []
    },
    "kernelspec": {
      "name": "python3",
      "display_name": "Python 3"
    },
    "language_info": {
      "name": "python"
    },
    "accelerator": "GPU"
  },
  "cells": [
    {
      "cell_type": "code",
      "execution_count": 1,
      "metadata": {
        "id": "MFPpyDS5y2n_"
      },
      "outputs": [],
      "source": [
        "import os\n",
        "import zipfile\n",
        "import shutil\n",
        "from shutil import copyfile\n",
        "import random\n",
        "import numpy as np\n",
        "import matplotlib.pyplot as plt\n",
        "import tensorflow as tf\n",
        "from tensorflow import keras\n",
        "from keras.preprocessing import image\n",
        "from keras.preprocessing.image import ImageDataGenerator\n",
        "import warnings\n",
        "warnings.filterwarnings(\"ignore\")"
      ]
    },
    {
      "cell_type": "code",
      "source": [
        "print(tf.__version__)"
      ],
      "metadata": {
        "colab": {
          "base_uri": "https://localhost:8080/"
        },
        "id": "a04kkSxPzMH-",
        "outputId": "984fa23f-24a2-4b01-9a71-08963468389a"
      },
      "execution_count": 2,
      "outputs": [
        {
          "output_type": "stream",
          "name": "stdout",
          "text": [
            "2.8.0\n"
          ]
        }
      ]
    },
    {
      "cell_type": "code",
      "source": [
        "from google.colab import drive\n",
        "drive.mount('/content/drive')\n",
        "os.environ['KAGGLE_CONFIG_DIR'] = \"/content/drive/Shareddrives/recycraft/scraps-dataset\"\n",
        "%cd /content/drive/Shareddrives/recycraft/scraps-dataset/"
      ],
      "metadata": {
        "colab": {
          "base_uri": "https://localhost:8080/"
        },
        "id": "RFEWaZuAzOrO",
        "outputId": "9d4c8faa-a7ff-429d-ef5e-a63db6c7d1ae"
      },
      "execution_count": 3,
      "outputs": [
        {
          "output_type": "stream",
          "name": "stdout",
          "text": [
            "Drive already mounted at /content/drive; to attempt to forcibly remount, call drive.mount(\"/content/drive\", force_remount=True).\n",
            "/content/drive/Shareddrives/recycraft/scraps-dataset\n"
          ]
        }
      ]
    },
    {
      "cell_type": "code",
      "source": [
        "!kaggle datasets download -d mostafaabla/garbage-classification"
      ],
      "metadata": {
        "id": "s9zB7fHXfIlI",
        "colab": {
          "base_uri": "https://localhost:8080/"
        },
        "outputId": "33f51cff-6b0f-479d-d1f5-0fac2c4192c1"
      },
      "execution_count": 4,
      "outputs": [
        {
          "output_type": "stream",
          "name": "stdout",
          "text": [
            "garbage-classification.zip: Skipping, found more recently modified local copy (use --force to force download)\n"
          ]
        }
      ]
    },
    {
      "cell_type": "code",
      "source": [
        "!kaggle datasets download -d ashwinshrivastav/most-common-recyclable-and-nonrecyclable-objects"
      ],
      "metadata": {
        "id": "b5OB_TvJf-lX",
        "colab": {
          "base_uri": "https://localhost:8080/"
        },
        "outputId": "e1186155-7a08-4faf-9783-1c07a405a556"
      },
      "execution_count": 5,
      "outputs": [
        {
          "output_type": "stream",
          "name": "stdout",
          "text": [
            "most-common-recyclable-and-nonrecyclable-objects.zip: Skipping, found more recently modified local copy (use --force to force download)\n"
          ]
        }
      ]
    },
    {
      "cell_type": "code",
      "source": [
        "root_path = '/content/drive/Shareddrives/recycraft/scraps-dataset/'\n",
        "\n",
        "def create_train_test_dirs(root_path):\n",
        "  training_dir = os.path.join(root_path, \"train\")\n",
        "  testing_dir = os.path.join(root_path, \"test\")\n",
        "  os.makedirs(training_dir)\n",
        "  os.makedirs(testing_dir)\n",
        "  os.makedirs(os.path.join(training_dir, \"plastic\"))\n",
        "  os.makedirs(os.path.join(training_dir, \"paper\"))\n",
        "  os.makedirs(os.path.join(training_dir, \"cardboard\"))\n",
        "  os.makedirs(os.path.join(training_dir, \"styrofoam\"))\n",
        "  os.makedirs(os.path.join(training_dir, \"bottle-plastic\"))\n",
        "  os.makedirs(os.path.join(training_dir, \"can\"))\n",
        "  os.makedirs(os.path.join(training_dir, \"spoon-plastic\"))\n",
        "  os.makedirs(os.path.join(testing_dir, \"plastic\"))\n",
        "  os.makedirs(os.path.join(testing_dir, \"paper\"))\n",
        "  os.makedirs(os.path.join(testing_dir, \"cardboard\"))\n",
        "  os.makedirs(os.path.join(testing_dir, \"styrofoam\"))\n",
        "  os.makedirs(os.path.join(testing_dir, \"bottle-plastic\"))\n",
        "  os.makedirs(os.path.join(testing_dir, \"can\"))\n",
        "  os.makedirs(os.path.join(testing_dir, \"spoon-plastic\"))\n",
        "\n",
        "try:\n",
        "  create_train_test_dirs(root_path)\n",
        "  print(\"Succesfull !\")\n",
        "except FileExistsError:\n",
        "  print(\"You should not be seeing this since the upper directory is removed␣ beforehand\")\n",
        "\n",
        "for rootdir, dirs, files in os.walk(root_path):\n",
        "  for subdir in dirs:\n",
        "    print(os.path.join(rootdir, subdir))"
      ],
      "metadata": {
        "colab": {
          "base_uri": "https://localhost:8080/"
        },
        "id": "Tuh_TM7NrcAR",
        "outputId": "2210e870-3ea9-4b88-eb02-af1238e67fb1"
      },
      "execution_count": 6,
      "outputs": [
        {
          "output_type": "stream",
          "name": "stdout",
          "text": [
            "You should not be seeing this since the upper directory is removed␣ beforehand\n",
            "/content/drive/Shareddrives/recycraft/scraps-dataset/garbage_classification\n",
            "/content/drive/Shareddrives/recycraft/scraps-dataset/train\n",
            "/content/drive/Shareddrives/recycraft/scraps-dataset/test\n",
            "/content/drive/Shareddrives/recycraft/scraps-dataset/MainDataset\n",
            "/content/drive/Shareddrives/recycraft/scraps-dataset/.ipynb_checkpoints\n",
            "/content/drive/Shareddrives/recycraft/scraps-dataset/garbage_classification/battery\n",
            "/content/drive/Shareddrives/recycraft/scraps-dataset/garbage_classification/biological\n",
            "/content/drive/Shareddrives/recycraft/scraps-dataset/garbage_classification/brown-glass\n",
            "/content/drive/Shareddrives/recycraft/scraps-dataset/garbage_classification/cardboard\n",
            "/content/drive/Shareddrives/recycraft/scraps-dataset/garbage_classification/clothes\n",
            "/content/drive/Shareddrives/recycraft/scraps-dataset/garbage_classification/green-glass\n",
            "/content/drive/Shareddrives/recycraft/scraps-dataset/garbage_classification/metal\n",
            "/content/drive/Shareddrives/recycraft/scraps-dataset/garbage_classification/paper\n",
            "/content/drive/Shareddrives/recycraft/scraps-dataset/garbage_classification/plastic\n",
            "/content/drive/Shareddrives/recycraft/scraps-dataset/garbage_classification/shoes\n",
            "/content/drive/Shareddrives/recycraft/scraps-dataset/garbage_classification/trash\n",
            "/content/drive/Shareddrives/recycraft/scraps-dataset/garbage_classification/white-glass\n",
            "/content/drive/Shareddrives/recycraft/scraps-dataset/train/plastic\n",
            "/content/drive/Shareddrives/recycraft/scraps-dataset/train/paper\n",
            "/content/drive/Shareddrives/recycraft/scraps-dataset/train/cardboard\n",
            "/content/drive/Shareddrives/recycraft/scraps-dataset/train/styrofoam\n",
            "/content/drive/Shareddrives/recycraft/scraps-dataset/train/bottle-plastic\n",
            "/content/drive/Shareddrives/recycraft/scraps-dataset/train/can\n",
            "/content/drive/Shareddrives/recycraft/scraps-dataset/train/spoon-plastic\n",
            "/content/drive/Shareddrives/recycraft/scraps-dataset/test/plastic\n",
            "/content/drive/Shareddrives/recycraft/scraps-dataset/test/paper\n",
            "/content/drive/Shareddrives/recycraft/scraps-dataset/test/cardboard\n",
            "/content/drive/Shareddrives/recycraft/scraps-dataset/test/styrofoam\n",
            "/content/drive/Shareddrives/recycraft/scraps-dataset/test/bottle-plastic\n",
            "/content/drive/Shareddrives/recycraft/scraps-dataset/test/can\n",
            "/content/drive/Shareddrives/recycraft/scraps-dataset/test/spoon-plastic\n",
            "/content/drive/Shareddrives/recycraft/scraps-dataset/MainDataset/BOTTLE\n",
            "/content/drive/Shareddrives/recycraft/scraps-dataset/MainDataset/CAN\n",
            "/content/drive/Shareddrives/recycraft/scraps-dataset/MainDataset/STYROFOAM\n",
            "/content/drive/Shareddrives/recycraft/scraps-dataset/MainDataset/UTENSIL\n"
          ]
        }
      ]
    },
    {
      "cell_type": "code",
      "source": [
        "def split_data(SOURCE, TRAINING, TESTING, SPLIT_SIZE=0.9):\n",
        "  files = []\n",
        "  for filename in os.listdir(SOURCE):\n",
        "    file = SOURCE + filename\n",
        "    if os.path.getsize(file) > 0:\n",
        "      files.append(filename)\n",
        "    else:\n",
        "      print(f\"{filename} memiliki ukuran 0 sehingga dilewatkan.\")\n",
        "      \n",
        "  training_len = int(len(files) * SPLIT_SIZE)\n",
        "  testing_len = int(len(files) - training_len)\n",
        "  shuffle_set = random.sample(files, len(files))\n",
        "  training_set = shuffle_set[0:training_len]\n",
        "  testing_set = shuffle_set[-testing_len:]\n",
        "  \n",
        "  for filename in training_set:\n",
        "    source = SOURCE + filename\n",
        "    destiny = TRAINING + filename\n",
        "    copyfile(source, destiny)\n",
        "\n",
        "  for filename in testing_set:\n",
        "    source = SOURCE + filename\n",
        "    destiny = TESTING + filename\n",
        "    copyfile(source, destiny)"
      ],
      "metadata": {
        "id": "xvG88Y-6wAWM"
      },
      "execution_count": 7,
      "outputs": []
    },
    {
      "cell_type": "code",
      "source": [
        "#source path\n",
        "plastic_path = '/content/drive/Shareddrives/recycraft/scraps-dataset/garbage_classification/plastic/'\n",
        "paper_path = '/content/drive/Shareddrives/recycraft/scraps-dataset/garbage_classification/paper/'\n",
        "cardboard_path = '/content/drive/Shareddrives/recycraft/scraps-dataset/garbage_classification/cardboard/'\n",
        "styrofoam_path = '/content/drive/Shareddrives/recycraft/scraps-dataset/MainDataset/STYROFOAM/'\n",
        "bottle_path = '/content/drive/Shareddrives/recycraft/scraps-dataset/MainDataset/BOTTLE/'\n",
        "can_path = '/content/drive/Shareddrives/recycraft/scraps-dataset/MainDataset/CAN/'\n",
        "spoon_path = '/content/drive/Shareddrives/recycraft/scraps-dataset/MainDataset/UTENSIL/'\n",
        "\n",
        "#training & testing path\n",
        "training_dir = '/content/drive/Shareddrives/recycraft/scraps-dataset/train/'\n",
        "testing_dir = '/content/drive/Shareddrives/recycraft/scraps-dataset/test/'\n",
        "\n",
        "#destiny path\n",
        "plastic_training_dir = os.path.join(training_dir, 'plastic/')\n",
        "plastic_testing_dir = os.path.join(testing_dir, 'plastic/')\n",
        "paper_training_dir = os.path.join(training_dir, 'paper/')\n",
        "paper_testing_dir = os.path.join(testing_dir, 'paper/')\n",
        "cardboard_training_dir = os.path.join(training_dir, 'cardboard/')\n",
        "cardboard_testing_dir = os.path.join(testing_dir, 'cardboard/')\n",
        "styrofoam_training_dir = os.path.join(training_dir, 'styrofoam/')\n",
        "styrofoam_testing_dir = os.path.join(testing_dir, 'styrofoam/')\n",
        "bottle_plastic_training_dir = os.path.join(training_dir, 'bottle-plastic/')\n",
        "bottle_plastic_testing_dir = os.path.join(testing_dir, 'bottle-plastic/')\n",
        "can_training_dir = os.path.join(training_dir, 'can/')\n",
        "can_testing_dir = os.path.join(testing_dir, 'can/')\n",
        "spoon_plastic_training_dir = os.path.join(training_dir, 'spoon-plastic/')\n",
        "spoon_plastic_testing_dir = os.path.join(testing_dir, 'spoon-plastic/')\n",
        "\n",
        "if len(os.listdir(plastic_training_dir)) > 0:\n",
        "  for file in os.scandir(plastic_training_dir):\n",
        "    os.remove(file.path)\n",
        "if len(os.listdir(plastic_testing_dir)) > 0:\n",
        "  for file in os.scandir(plastic_testing_dir):\n",
        "    os.remove(file.path)\n",
        "\n",
        "if len(os.listdir(paper_training_dir)) > 0:\n",
        "  for file in os.scandir(paper_training_dir):\n",
        "    os.remove(file.path)\n",
        "if len(os.listdir(paper_testing_dir)) > 0:\n",
        "  for file in os.scandir(paper_testing_dir):\n",
        "    os.remove(file.path)\n",
        "\n",
        "if len(os.listdir(cardboard_training_dir)) > 0:\n",
        "  for file in os.scandir(cardboard_training_dir):\n",
        "    os.remove(file.path)\n",
        "if len(os.listdir(cardboard_testing_dir)) > 0:\n",
        "  for file in os.scandir(cardboard_testing_dir):\n",
        "    os.remove(file.path)\n",
        "\n",
        "if len(os.listdir(styrofoam_training_dir)) > 0:\n",
        "  for file in os.scandir(styrofoam_training_dir):\n",
        "    os.remove(file.path)\n",
        "if len(os.listdir(styrofoam_testing_dir)) > 0:\n",
        "  for file in os.scandir(styrofoam_testing_dir):\n",
        "    os.remove(file.path)\n",
        "\n",
        "if len(os.listdir(bottle_plastic_training_dir)) > 0:\n",
        "  for file in os.scandir(bottle_plastic_training_dir):\n",
        "    os.remove(file.path)\n",
        "if len(os.listdir(bottle_plastic_testing_dir)) > 0:\n",
        "  for file in os.scandir(bottle_plastic_testing_dir):\n",
        "    os.remove(file.path)\n",
        "\n",
        "if len(os.listdir(can_training_dir)) > 0:\n",
        "  for file in os.scandir(can_training_dir):\n",
        "    os.remove(file.path)\n",
        "if len(os.listdir(can_testing_dir)) > 0:\n",
        "  for file in os.scandir(can_testing_dir):\n",
        "    os.remove(file.path)\n",
        "\n",
        "if len(os.listdir(spoon_plastic_training_dir)) > 0:\n",
        "  for file in os.scandir(spoon_plastic_training_dir):\n",
        "    os.remove(file.path)\n",
        "if len(os.listdir(spoon_plastic_testing_dir)) > 0:\n",
        "  for file in os.scandir(spoon_plastic_testing_dir):\n",
        "    os.remove(file.path)\n",
        "\n",
        "split_data(plastic_path, plastic_training_dir, plastic_testing_dir)\n",
        "split_data(paper_path, paper_training_dir, paper_testing_dir)\n",
        "split_data(cardboard_path, cardboard_training_dir, cardboard_testing_dir)\n",
        "split_data(styrofoam_path, styrofoam_training_dir, styrofoam_testing_dir)\n",
        "split_data(bottle_path, bottle_plastic_training_dir, bottle_plastic_testing_dir)\n",
        "split_data(can_path, can_training_dir, can_testing_dir)\n",
        "split_data(spoon_path, spoon_plastic_training_dir, spoon_plastic_testing_dir)\n",
        "\n",
        "print(f\"\\nAda {len(os.listdir(plastic_training_dir))} gambar plastic pada training \")\n",
        "print(f\"Ada {len(os.listdir(plastic_testing_dir))} gambar plastic pada testing \")\n",
        "print(f\"Ada {len(os.listdir(paper_training_dir))} gambar paper pada training \")\n",
        "print(f\"Ada {len(os.listdir(paper_testing_dir))} gambar paper pada testing \")\n",
        "print(f\"Ada {len(os.listdir(cardboard_training_dir))} gambar cardboard pada training \")\n",
        "print(f\"Ada {len(os.listdir(cardboard_testing_dir))} gambar cardboard pada testing \")\n",
        "print(f\"Ada {len(os.listdir(styrofoam_training_dir))} gambar styrofoam pada training \")\n",
        "print(f\"Ada {len(os.listdir(styrofoam_testing_dir))} gambar styrofoam pada testing \")\n",
        "print(f\"Ada {len(os.listdir(bottle_plastic_training_dir))} gambar bottle-plastic pada training \")\n",
        "print(f\"Ada {len(os.listdir(bottle_plastic_testing_dir))} gambar bottle-plastic pada testing \")\n",
        "print(f\"Ada {len(os.listdir(can_training_dir))} gambar can pada training \")\n",
        "print(f\"Ada {len(os.listdir(can_testing_dir))} gambar can pada testing \")\n",
        "print(f\"Ada {len(os.listdir(spoon_plastic_training_dir))} gambar spoon_plastic pada training \")\n",
        "print(f\"Ada {len(os.listdir(spoon_plastic_testing_dir))} gambar spoon_plastic pada testing \")"
      ],
      "metadata": {
        "id": "VvMMsdcmxDg8",
        "colab": {
          "base_uri": "https://localhost:8080/"
        },
        "outputId": "5b263a51-0a27-45c5-f282-d062a226c6a5"
      },
      "execution_count": 8,
      "outputs": [
        {
          "output_type": "stream",
          "name": "stdout",
          "text": [
            "\n",
            "Ada 778 gambar plastic pada training \n",
            "Ada 87 gambar plastic pada testing \n",
            "Ada 945 gambar paper pada training \n",
            "Ada 105 gambar paper pada testing \n",
            "Ada 801 gambar cardboard pada training \n",
            "Ada 90 gambar cardboard pada testing \n",
            "Ada 355 gambar styrofoam pada training \n",
            "Ada 40 gambar styrofoam pada testing \n",
            "Ada 353 gambar bottle-plastic pada training \n",
            "Ada 40 gambar bottle-plastic pada testing \n",
            "Ada 368 gambar can pada training \n",
            "Ada 41 gambar can pada testing \n",
            "Ada 353 gambar spoon_plastic pada training \n",
            "Ada 40 gambar spoon_plastic pada testing \n"
          ]
        }
      ]
    },
    {
      "cell_type": "code",
      "source": [
        "def train_val_generators(TRAINING_DIR, VALIDATION_DIR):\n",
        "  train_datagen = ImageDataGenerator(rescale=1./255,\n",
        "                                     rotation_range = 20,\n",
        "                                     width_shift_range = 0.1,\n",
        "                                     height_shift_range = 0.1,\n",
        "                                     shear_range = 0.2,\n",
        "                                     zoom_range = 0.2,\n",
        "                                     fill_mode = 'nearest')\n",
        "  train_generator = train_datagen.flow_from_directory(directory = TRAINING_DIR,\n",
        "                                                      batch_size = 50,\n",
        "                                                      class_mode = 'categorical',\n",
        "                                                      target_size = (150,150))\n",
        "  validation_datagen = ImageDataGenerator(rescale=1./255)\n",
        "  validation_generator = validation_datagen.flow_from_directory(directory =VALIDATION_DIR,\n",
        "                                                                batch_size = 50,\n",
        "                                                                class_mode = 'categorical',\n",
        "                                                                target_size = (150,150))\n",
        "  return train_generator, validation_generator"
      ],
      "metadata": {
        "id": "Dy2BmNWpcbN7"
      },
      "execution_count": 21,
      "outputs": []
    },
    {
      "cell_type": "code",
      "source": [
        "train_generator, validation_generator = train_val_generators(training_dir,testing_dir)"
      ],
      "metadata": {
        "colab": {
          "base_uri": "https://localhost:8080/"
        },
        "id": "Uas1cqh7pJSI",
        "outputId": "f5f5f62b-be99-4e66-e392-6e87f4ef8cfb"
      },
      "execution_count": 22,
      "outputs": [
        {
          "output_type": "stream",
          "name": "stdout",
          "text": [
            "Found 3951 images belonging to 7 classes.\n",
            "Found 443 images belonging to 7 classes.\n"
          ]
        }
      ]
    },
    {
      "cell_type": "code",
      "source": [
        "def create_model():\n",
        "  model = tf.keras.models.Sequential([\n",
        "      keras.layers.Conv2D(16, (3, 3), activation='relu', input_shape=(150,150, 3)),\n",
        "      keras.layers.MaxPooling2D(2,2),\n",
        "      keras.layers.Conv2D(32, (3, 3), activation='relu'),\n",
        "      keras.layers.MaxPooling2D(2,2),\n",
        "      keras.layers.Conv2D(64, (3, 3), activation='relu'),\n",
        "      keras.layers.MaxPooling2D(2,2),\n",
        "      keras.layers.Flatten(),\n",
        "      keras.layers.Dropout(0.1),\n",
        "      keras.layers.Dense(128, activation=\"relu\"),\n",
        "      keras.layers.Dense(7, activation=\"softmax\")\n",
        "  ])\n",
        "  model.compile(optimizer=tf.keras.optimizers.RMSprop(learning_rate=0.001),\n",
        "                                                      loss='categorical_crossentropy',\n",
        "                                                      metrics=['accuracy'])\n",
        "  return model"
      ],
      "metadata": {
        "id": "_fHKakFJpwOj"
      },
      "execution_count": 23,
      "outputs": []
    },
    {
      "cell_type": "code",
      "source": [
        "model = create_model()\n",
        "model.summary()"
      ],
      "metadata": {
        "colab": {
          "base_uri": "https://localhost:8080/"
        },
        "id": "JpSP3cydqS5g",
        "outputId": "5df77118-7697-400b-b5a9-eaa4b68b52c2"
      },
      "execution_count": 24,
      "outputs": [
        {
          "output_type": "stream",
          "name": "stdout",
          "text": [
            "Model: \"sequential_4\"\n",
            "_________________________________________________________________\n",
            " Layer (type)                Output Shape              Param #   \n",
            "=================================================================\n",
            " conv2d_12 (Conv2D)          (None, 148, 148, 16)      448       \n",
            "                                                                 \n",
            " max_pooling2d_12 (MaxPoolin  (None, 74, 74, 16)       0         \n",
            " g2D)                                                            \n",
            "                                                                 \n",
            " conv2d_13 (Conv2D)          (None, 72, 72, 32)        4640      \n",
            "                                                                 \n",
            " max_pooling2d_13 (MaxPoolin  (None, 36, 36, 32)       0         \n",
            " g2D)                                                            \n",
            "                                                                 \n",
            " conv2d_14 (Conv2D)          (None, 34, 34, 64)        18496     \n",
            "                                                                 \n",
            " max_pooling2d_14 (MaxPoolin  (None, 17, 17, 64)       0         \n",
            " g2D)                                                            \n",
            "                                                                 \n",
            " flatten_4 (Flatten)         (None, 18496)             0         \n",
            "                                                                 \n",
            " dropout (Dropout)           (None, 18496)             0         \n",
            "                                                                 \n",
            " dense_8 (Dense)             (None, 128)               2367616   \n",
            "                                                                 \n",
            " dense_9 (Dense)             (None, 7)                 903       \n",
            "                                                                 \n",
            "=================================================================\n",
            "Total params: 2,392,103\n",
            "Trainable params: 2,392,103\n",
            "Non-trainable params: 0\n",
            "_________________________________________________________________\n"
          ]
        }
      ]
    },
    {
      "cell_type": "code",
      "source": [
        "history = model.fit(train_generator,\n",
        "                    validation_data = validation_generator,\n",
        "                    epochs = 30, verbose=1)"
      ],
      "metadata": {
        "colab": {
          "base_uri": "https://localhost:8080/"
        },
        "id": "FxfmbgRgqkU_",
        "outputId": "2857ff22-4b6e-494e-a007-aa9dbf066179"
      },
      "execution_count": 25,
      "outputs": [
        {
          "output_type": "stream",
          "name": "stdout",
          "text": [
            "Epoch 1/30\n",
            "80/80 [==============================] - 50s 606ms/step - loss: 1.7906 - accuracy: 0.3467 - val_loss: 1.3554 - val_accuracy: 0.4628\n",
            "Epoch 2/30\n",
            "80/80 [==============================] - 49s 615ms/step - loss: 1.3612 - accuracy: 0.4758 - val_loss: 1.1552 - val_accuracy: 0.5598\n",
            "Epoch 3/30\n",
            "80/80 [==============================] - 48s 598ms/step - loss: 1.2786 - accuracy: 0.5523 - val_loss: 1.0360 - val_accuracy: 0.6343\n",
            "Epoch 4/30\n",
            "80/80 [==============================] - 48s 594ms/step - loss: 1.1291 - accuracy: 0.6014 - val_loss: 0.8267 - val_accuracy: 0.7201\n",
            "Epoch 5/30\n",
            "80/80 [==============================] - 48s 595ms/step - loss: 0.9712 - accuracy: 0.6507 - val_loss: 0.7992 - val_accuracy: 0.7359\n",
            "Epoch 6/30\n",
            "80/80 [==============================] - 48s 594ms/step - loss: 0.9257 - accuracy: 0.6644 - val_loss: 0.7384 - val_accuracy: 0.7359\n",
            "Epoch 7/30\n",
            "80/80 [==============================] - 48s 598ms/step - loss: 0.8433 - accuracy: 0.7008 - val_loss: 0.8475 - val_accuracy: 0.6840\n",
            "Epoch 8/30\n",
            "80/80 [==============================] - 49s 606ms/step - loss: 0.7861 - accuracy: 0.7282 - val_loss: 0.6626 - val_accuracy: 0.7607\n",
            "Epoch 9/30\n",
            "80/80 [==============================] - 48s 603ms/step - loss: 0.7673 - accuracy: 0.7396 - val_loss: 0.6962 - val_accuracy: 0.7517\n",
            "Epoch 10/30\n",
            "80/80 [==============================] - 48s 604ms/step - loss: 0.7635 - accuracy: 0.7342 - val_loss: 0.7998 - val_accuracy: 0.7246\n",
            "Epoch 11/30\n",
            "80/80 [==============================] - 49s 609ms/step - loss: 0.6858 - accuracy: 0.7608 - val_loss: 0.7396 - val_accuracy: 0.7404\n",
            "Epoch 12/30\n",
            "80/80 [==============================] - 48s 602ms/step - loss: 0.6508 - accuracy: 0.7692 - val_loss: 0.7343 - val_accuracy: 0.7788\n",
            "Epoch 13/30\n",
            "80/80 [==============================] - 48s 601ms/step - loss: 0.6393 - accuracy: 0.7720 - val_loss: 0.6682 - val_accuracy: 0.7923\n",
            "Epoch 14/30\n",
            "80/80 [==============================] - 49s 607ms/step - loss: 0.5723 - accuracy: 0.7965 - val_loss: 0.7098 - val_accuracy: 0.7856\n",
            "Epoch 15/30\n",
            "80/80 [==============================] - 46s 578ms/step - loss: 0.5769 - accuracy: 0.7980 - val_loss: 0.5747 - val_accuracy: 0.8059\n",
            "Epoch 16/30\n",
            "80/80 [==============================] - 46s 576ms/step - loss: 0.5473 - accuracy: 0.8066 - val_loss: 0.6038 - val_accuracy: 0.7923\n",
            "Epoch 17/30\n",
            "80/80 [==============================] - 46s 575ms/step - loss: 0.5419 - accuracy: 0.8109 - val_loss: 0.7596 - val_accuracy: 0.7765\n",
            "Epoch 18/30\n",
            "80/80 [==============================] - 46s 573ms/step - loss: 0.4907 - accuracy: 0.8216 - val_loss: 0.6569 - val_accuracy: 0.7878\n",
            "Epoch 19/30\n",
            "80/80 [==============================] - 46s 575ms/step - loss: 0.4980 - accuracy: 0.8259 - val_loss: 0.9460 - val_accuracy: 0.7223\n",
            "Epoch 20/30\n",
            "80/80 [==============================] - 45s 569ms/step - loss: 0.4811 - accuracy: 0.8317 - val_loss: 0.5844 - val_accuracy: 0.8172\n",
            "Epoch 21/30\n",
            "80/80 [==============================] - 45s 567ms/step - loss: 0.4493 - accuracy: 0.8494 - val_loss: 0.6083 - val_accuracy: 0.8330\n",
            "Epoch 22/30\n",
            "80/80 [==============================] - 45s 565ms/step - loss: 0.4499 - accuracy: 0.8362 - val_loss: 0.5188 - val_accuracy: 0.8284\n",
            "Epoch 23/30\n",
            "80/80 [==============================] - 45s 561ms/step - loss: 0.4387 - accuracy: 0.8405 - val_loss: 0.6709 - val_accuracy: 0.7923\n",
            "Epoch 24/30\n",
            "80/80 [==============================] - 45s 558ms/step - loss: 0.4215 - accuracy: 0.8524 - val_loss: 0.5627 - val_accuracy: 0.8578\n",
            "Epoch 25/30\n",
            "80/80 [==============================] - 45s 560ms/step - loss: 0.4539 - accuracy: 0.8492 - val_loss: 0.5563 - val_accuracy: 0.8397\n",
            "Epoch 26/30\n",
            "80/80 [==============================] - 45s 558ms/step - loss: 0.3855 - accuracy: 0.8646 - val_loss: 0.6339 - val_accuracy: 0.8375\n",
            "Epoch 27/30\n",
            "80/80 [==============================] - 45s 569ms/step - loss: 0.4223 - accuracy: 0.8583 - val_loss: 0.6066 - val_accuracy: 0.8375\n",
            "Epoch 28/30\n",
            "80/80 [==============================] - 45s 557ms/step - loss: 0.3611 - accuracy: 0.8737 - val_loss: 0.6246 - val_accuracy: 0.8262\n",
            "Epoch 29/30\n",
            "80/80 [==============================] - 45s 556ms/step - loss: 0.3452 - accuracy: 0.8770 - val_loss: 0.6115 - val_accuracy: 0.8397\n",
            "Epoch 30/30\n",
            "80/80 [==============================] - 45s 557ms/step - loss: 0.3829 - accuracy: 0.8659 - val_loss: 0.6027 - val_accuracy: 0.8375\n"
          ]
        }
      ]
    },
    {
      "cell_type": "code",
      "source": [
        "acc = history.history['accuracy']\n",
        "val_acc = history.history['val_accuracy']\n",
        "loss = history.history['loss']\n",
        "val_loss = history.history['val_loss']\n",
        "\n",
        "epochs = range(len(acc))\n",
        "\n",
        "plt.plot(epochs, acc, 'r', label='Training accuracy')\n",
        "plt.plot(epochs, val_acc, 'b', label='Validation accuracy')\n",
        "plt.title('Training and validation accuracy')\n",
        "plt.legend()\n",
        "plt.figure()\n",
        "\n",
        "plt.plot(epochs, loss, 'r', label='Training Loss')\n",
        "plt.plot(epochs, val_loss, 'b', label='Validation Loss')\n",
        "plt.title('Training and validation loss')\n",
        "plt.legend()\n",
        "\n",
        "plt.show()"
      ],
      "metadata": {
        "colab": {
          "base_uri": "https://localhost:8080/",
          "height": 545
        },
        "id": "Cj0Cp6gty2hY",
        "outputId": "da18ea79-0d0e-4dae-c70b-c12103fec46d"
      },
      "execution_count": 26,
      "outputs": [
        {
          "output_type": "display_data",
          "data": {
            "text/plain": [
              "<Figure size 432x288 with 1 Axes>"
            ],
            "image/png": "[encoded data removed]"
          },
          "metadata": {
            "needs_background": "light"
          }
        },
        {
          "output_type": "display_data",
          "data": {
            "text/plain": [
              "<Figure size 432x288 with 1 Axes>"
            ],
            "image/png": "[encoded data removed]"
          },
          "metadata": {
            "needs_background": "light"
          }
        }
      ]
    },
    {
      "cell_type": "code",
      "source": [
        ""
      ],
      "metadata": {
        "id": "9RkgT-hb7NHU"
      },
      "execution_count": null,
      "outputs": []
    }
  ]
}